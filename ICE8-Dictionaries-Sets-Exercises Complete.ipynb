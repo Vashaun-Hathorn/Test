{
 "cells": [
  {
   "cell_type": "markdown",
   "id": "89fe0917",
   "metadata": {},
   "source": [
    "# 🐍 ICE 8: Dictionaries and Sets"
   ]
  },
  {
   "cell_type": "markdown",
   "id": "0bf1c870",
   "metadata": {},
   "source": [
    "### Exercise 1: Creating and Accessing a Dictionary\n",
    "Create a dictionary called `capitals` that maps the following countries to their capital cities:\n",
    "- France → Paris\n",
    "- Germany → Berlin\n",
    "- Italy → Rome\n",
    "\n",
    "Print the entire dictionary, and then print the capital of Germany using its key."
   ]
  },
  {
   "cell_type": "code",
   "execution_count": 2,
   "id": "09f863fa",
   "metadata": {},
   "outputs": [
    {
     "name": "stdout",
     "output_type": "stream",
     "text": [
      "{'France': 'Paris', 'Germany': 'Berlin', 'Italy': 'Rome'}\n",
      "Berlin\n"
     ]
    }
   ],
   "source": [
    "capitals = {\n",
    "    \"France\": \"Paris\",\n",
    "    \"Germany\": \"Berlin\",\n",
    "    \"Italy\": \"Rome\",\n",
    "}\n",
    "print(capitals)\n",
    "print(capitals[\"Germany\"])\n"
   ]
  },
  {
   "cell_type": "markdown",
   "id": "9c483959",
   "metadata": {},
   "source": [
    "### Exercise 2: Modifying a Dictionary\n",
    "Add a new country-capital pair to the `capitals` dictionary: Spain → Madrid.\n",
    "Update the capital of Italy to \"Milan\".\n",
    "Delete the entry for France.\n",
    "Print the dictionary after each operation."
   ]
  },
  {
   "cell_type": "code",
   "execution_count": 18,
   "id": "84a851a3",
   "metadata": {},
   "outputs": [
    {
     "name": "stdout",
     "output_type": "stream",
     "text": [
      "After adding Spain: {'France': 'Paris', 'Germany': 'Berlin', 'Italy': 'Rome', 'Spain': 'Madrid'}\n",
      "After updating Italy: {'France': 'Paris', 'Germany': 'Berlin', 'Italy': 'Milan', 'Spain': 'Madrid'}\n",
      "After deleting France: {'Germany': 'Berlin', 'Italy': 'Milan', 'Spain': 'Madrid'}\n"
     ]
    }
   ],
   "source": [
    "capitals[\"Spain\"] = \"Madrid\"\n",
    "print(\"After adding Spain:\", capitals)\n",
    "capitals[\"Italy\"] = \"Milan\"\n",
    "print(\"After updating Italy:\", capitals)\n",
    "del capitals[\"France\"]\n",
    "print(\"After deleting France:\", capitals)"
   ]
  },
  {
   "cell_type": "markdown",
   "id": "9ae03ed6",
   "metadata": {},
   "source": [
    "### Exercise 3: Dictionary Methods\n",
    "Use the following dictionary:\n",
    "```python\n",
    "grades = {\"Alice\": 85, \"Bob\": 90, \"Charlie\": 78}\n",
    "```\n",
    "- Print all student names using `.keys()`\n",
    "- Print all grades using `.values()`\n",
    "- Print all student-grade pairs using `.items()`\n",
    "- Use `.get()` to retrieve Diana’s grade with a default message."
   ]
  },
  {
   "cell_type": "code",
   "execution_count": 4,
   "id": "b05ace69",
   "metadata": {},
   "outputs": [
    {
     "name": "stdout",
     "output_type": "stream",
     "text": [
      "student names: dict_keys(['Alice', 'Bob', 'Charlie'])\n",
      "grades: dict_values([85, 90, 78])\n",
      "student-grade pairs: dict_items([('Alice', 85), ('Bob', 90), ('Charlie', 78)])\n",
      "Diana's grade: Diana's grade not found\n"
     ]
    }
   ],
   "source": [
    "grades = {\"Alice\": 85, \"Bob\": 90, \"Charlie\": 78}\n",
    "print(\"student names:\", grades.keys())\n",
    "print(\"grades:\", grades.values())\n",
    "print(\"student-grade pairs:\", grades.items())\n",
    "print(\"Diana's grade:\", grades.get(\"Diana\", \"Diana's grade not found\"))"
   ]
  },
  {
   "cell_type": "markdown",
   "id": "f1ed7b68",
   "metadata": {},
   "source": [
    "### Exercise 4: Dictionary Comprehension\n",
    "Create a list called `nums` with values `[1, 2, 3, 4, 5]`.\n",
    "Use a dictionary comprehension to create a dictionary where the keys are the numbers and the values are their cubes."
   ]
  },
  {
   "cell_type": "code",
   "execution_count": 20,
   "id": "b275e069",
   "metadata": {},
   "outputs": [
    {
     "name": "stdout",
     "output_type": "stream",
     "text": [
      "{1: 1, 2: 8, 3: 27, 4: 64, 5: 125}\n"
     ]
    }
   ],
   "source": [
    "nums= [1,2,3,4,5]\n",
    "cubes_dict = {num: num**3 for num in nums}\n",
    "print(cubes_dict)\n"
   ]
  },
  {
   "cell_type": "markdown",
   "id": "d3b7f375",
   "metadata": {},
   "source": [
    "### Exercise 5: Creating and Using Sets\n",
    "Create a set named `colors` with the values: \"red\", \"green\", \"blue\", \"green\", \"red\".\n",
    "Print the set. Add \"yellow\" to the set and then remove \"blue\".\n",
    "Check if \"purple\" is in the set. Print the final set."
   ]
  },
  {
   "cell_type": "code",
   "execution_count": 29,
   "id": "5cf40a3f",
   "metadata": {},
   "outputs": [
    {
     "name": "stdout",
     "output_type": "stream",
     "text": [
      "['red', 'green', 'blue', 'green', 'red']\n",
      "['red', 'green', 'green', 'red', 'yellow']\n"
     ]
    }
   ],
   "source": [
    "colors=[\"red\", \"green\", \"blue\", \"green\", \"red\"]\n",
    "print(colors)\n",
    "colors.append(\"yellow\")\n",
    "colors.remove(\"blue\")\n",
    "print(colors)"
   ]
  },
  {
   "cell_type": "markdown",
   "id": "b37813ad",
   "metadata": {},
   "source": [
    "### Exercise 6: Set Operations\n",
    "Create two sets:\n",
    "```python\n",
    "set1 = {1, 2, 3, 4}\n",
    "set2 = {3, 4, 5, 6}\n",
    "```\n",
    "Perform and print the result of the following operations:\n",
    "- Union\n",
    "- Intersection\n",
    "- Difference (set1 - set2)\n",
    "- Symmetric difference"
   ]
  },
  {
   "cell_type": "code",
   "execution_count": 33,
   "id": "aff29244",
   "metadata": {},
   "outputs": [
    {
     "data": {
      "text/plain": [
       "{1, 2, 3, 4, 5, 6}"
      ]
     },
     "execution_count": 33,
     "metadata": {},
     "output_type": "execute_result"
    }
   ],
   "source": [
    "set1 = {1, 2, 3, 4}\n",
    "set2 = {3, 4, 5, 6}\n",
    "set1 | set2\n"
   ]
  },
  {
   "cell_type": "code",
   "execution_count": 34,
   "id": "daaefda7",
   "metadata": {},
   "outputs": [
    {
     "data": {
      "text/plain": [
       "{3, 4}"
      ]
     },
     "execution_count": 34,
     "metadata": {},
     "output_type": "execute_result"
    }
   ],
   "source": [
    "set1 & set2"
   ]
  },
  {
   "cell_type": "code",
   "execution_count": 35,
   "id": "fcec0eed",
   "metadata": {},
   "outputs": [
    {
     "data": {
      "text/plain": [
       "{1, 2}"
      ]
     },
     "execution_count": 35,
     "metadata": {},
     "output_type": "execute_result"
    }
   ],
   "source": [
    "set1 - set2"
   ]
  },
  {
   "cell_type": "code",
   "execution_count": 36,
   "id": "d8543ab2",
   "metadata": {},
   "outputs": [
    {
     "data": {
      "text/plain": [
       "{1, 2, 5, 6}"
      ]
     },
     "execution_count": 36,
     "metadata": {},
     "output_type": "execute_result"
    }
   ],
   "source": [
    "set1 ^ set2"
   ]
  },
  {
   "cell_type": "code",
   "execution_count": null,
   "id": "5fd89bf0",
   "metadata": {},
   "outputs": [],
   "source": []
  }
 ],
 "metadata": {
  "kernelspec": {
   "display_name": "Python 3",
   "language": "python",
   "name": "python3"
  },
  "language_info": {
   "codemirror_mode": {
    "name": "ipython",
    "version": 3
   },
   "file_extension": ".py",
   "mimetype": "text/x-python",
   "name": "python",
   "nbconvert_exporter": "python",
   "pygments_lexer": "ipython3",
   "version": "3.13.1"
  }
 },
 "nbformat": 4,
 "nbformat_minor": 5
}
